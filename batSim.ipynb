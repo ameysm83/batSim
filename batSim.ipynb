{
 "cells": [
  {
   "cell_type": "code",
   "execution_count": 1,
   "id": "b73c4c44-b081-41e8-ba53-37848b8fd8f6",
   "metadata": {},
   "outputs": [
    {
     "name": "stdout",
     "output_type": "stream",
     "text": [
      "    Van Datum Van Tijdstip   Tot Datum Tot Tijdstip                    EAN  \\\n",
      "0  13-06-2023     00:00:00  13-06-2023     00:15:00  =\"541448820053424929\"   \n",
      "1  13-06-2023     00:00:00  13-06-2023     00:15:00  =\"541448820053424929\"   \n",
      "2  13-06-2023     00:15:00  13-06-2023     00:30:00  =\"541448820053424929\"   \n",
      "3  13-06-2023     00:15:00  13-06-2023     00:30:00  =\"541448820053424929\"   \n",
      "4  13-06-2023     00:30:00  13-06-2023     00:45:00  =\"541448820053424929\"   \n",
      "\n",
      "            Meter       Metertype        Register Volume Eenheid  \\\n",
      "0  1SAG3100623778  Digitale Meter    Afname Nacht  0,053     kWh   \n",
      "1  1SAG3100623778  Digitale Meter  Injectie Nacht  0,000     kWh   \n",
      "2  1SAG3100623778  Digitale Meter    Afname Nacht  0,045     kWh   \n",
      "3  1SAG3100623778  Digitale Meter  Injectie Nacht  0,000     kWh   \n",
      "4  1SAG3100623778  Digitale Meter    Afname Nacht  0,056     kWh   \n",
      "\n",
      "  Validatiestatus  \n",
      "0     Gevalideerd  \n",
      "1     Gevalideerd  \n",
      "2     Gevalideerd  \n",
      "3     Gevalideerd  \n",
      "4     Gevalideerd  \n"
     ]
    },
    {
     "name": "stderr",
     "output_type": "stream",
     "text": [
      "C:\\Users\\marca\\AppData\\Local\\Temp\\ipykernel_21340\\3206379221.py:1: DeprecationWarning: \n",
      "Pyarrow will become a required dependency of pandas in the next major release of pandas (pandas 3.0),\n",
      "(to allow more performant data types, such as the Arrow string type, and better interoperability with other libraries)\n",
      "but was not found to be installed on your system.\n",
      "If this would cause problems for you,\n",
      "please provide us feedback at https://github.com/pandas-dev/pandas/issues/54466\n",
      "        \n",
      "  import pandas as pd\n"
     ]
    }
   ],
   "source": [
    "import pandas as pd\n",
    "\n",
    "df = pd.read_csv('verbruik.csv', delimiter=';')\n",
    "print(df.head())\n"
   ]
  },
  {
   "cell_type": "code",
   "execution_count": 2,
   "id": "33617607-e9c3-46ae-bd96-b3ed48b61873",
   "metadata": {},
   "outputs": [
    {
     "name": "stdout",
     "output_type": "stream",
     "text": [
      "    Van Datum Van Tijdstip   Tot Datum Tot Tijdstip                    EAN  \\\n",
      "0  13-06-2023     00:00:00  13-06-2023     00:15:00  =\"541448820053424929\"   \n",
      "1  13-06-2023     00:00:00  13-06-2023     00:15:00  =\"541448820053424929\"   \n",
      "2  13-06-2023     00:15:00  13-06-2023     00:30:00  =\"541448820053424929\"   \n",
      "\n",
      "            Meter       Metertype        Register Volume Eenheid  \\\n",
      "0  1SAG3100623778  Digitale Meter    Afname Nacht  0,053     kWh   \n",
      "1  1SAG3100623778  Digitale Meter  Injectie Nacht  0,000     kWh   \n",
      "2  1SAG3100623778  Digitale Meter    Afname Nacht  0,045     kWh   \n",
      "\n",
      "  Validatiestatus  \n",
      "0     Gevalideerd  \n",
      "1     Gevalideerd  \n",
      "2     Gevalideerd  \n"
     ]
    }
   ],
   "source": [
    "print(df.head(3))"
   ]
  },
  {
   "cell_type": "code",
   "execution_count": 6,
   "id": "68043c5f-a94e-4584-a96a-8e0ef925d332",
   "metadata": {},
   "outputs": [
    {
     "ename": "ValueError",
     "evalue": "could not convert string to float: '0,053'",
     "output_type": "error",
     "traceback": [
      "\u001b[1;31m---------------------------------------------------------------------------\u001b[0m",
      "\u001b[1;31mValueError\u001b[0m                                Traceback (most recent call last)",
      "Cell \u001b[1;32mIn[6], line 1\u001b[0m\n\u001b[1;32m----> 1\u001b[0m \u001b[38;5;28;43mfloat\u001b[39;49m\u001b[43m(\u001b[49m\u001b[43mdf\u001b[49m\u001b[38;5;241;43m.\u001b[39;49m\u001b[43miloc\u001b[49m\u001b[43m[\u001b[49m\u001b[38;5;241;43m0\u001b[39;49m\u001b[43m]\u001b[49m\u001b[43m[\u001b[49m\u001b[38;5;124;43m'\u001b[39;49m\u001b[38;5;124;43mVolume\u001b[39;49m\u001b[38;5;124;43m'\u001b[39;49m\u001b[43m]\u001b[49m\u001b[43m)\u001b[49m\n",
      "\u001b[1;31mValueError\u001b[0m: could not convert string to float: '0,053'"
     ]
    }
   ],
   "source": [
    "float(df.iloc[0]['Volume'])"
   ]
  },
  {
   "cell_type": "code",
   "execution_count": null,
   "id": "3527a750-f995-4a4a-a60b-a0aaf91b65fb",
   "metadata": {},
   "outputs": [],
   "source": []
  }
 ],
 "metadata": {
  "kernelspec": {
   "display_name": "Python 3 (ipykernel)",
   "language": "python",
   "name": "python3"
  },
  "language_info": {
   "codemirror_mode": {
    "name": "ipython",
    "version": 3
   },
   "file_extension": ".py",
   "mimetype": "text/x-python",
   "name": "python",
   "nbconvert_exporter": "python",
   "pygments_lexer": "ipython3",
   "version": "3.12.0"
  }
 },
 "nbformat": 4,
 "nbformat_minor": 5
}
